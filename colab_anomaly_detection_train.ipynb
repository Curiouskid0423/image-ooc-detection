{
  "nbformat": 4,
  "nbformat_minor": 0,
  "metadata": {
    "colab": {
      "name": "anomaly_detection_train.ipynb",
      "provenance": [],
      "collapsed_sections": [],
      "toc_visible": true,
      "machine_shape": "hm"
    },
    "kernelspec": {
      "name": "python3",
      "display_name": "Python 3"
    },
    "language_info": {
      "name": "python"
    },
    "accelerator": "GPU"
  },
  "cells": [
    {
      "cell_type": "markdown",
      "metadata": {
        "id": "j2A6nPYE7szO"
      },
      "source": [
        "# NTU Machine Learning Homework 8 - Anomaly Detection"
      ]
    },
    {
      "cell_type": "code",
      "metadata": {
        "id": "BKnb7XCj7ohK"
      },
      "source": [
        "!nvidia-smi"
      ],
      "execution_count": 14,
      "outputs": []
    },
    {
      "cell_type": "code",
      "metadata": {
        "colab": {
          "base_uri": "https://localhost:8080/"
        },
        "id": "zABsfVro73eC",
        "outputId": "798d61ba-1f01-4801-9cfd-91bb0efaab90"
      },
      "source": [
        "from google.colab import drive\n",
        "drive.mount('/content/gdrive')\n",
        "import os\n",
        "\n",
        "# your workspace in your drive\n",
        "workspace = '.'"
      ],
      "execution_count": 2,
      "outputs": [
        {
          "output_type": "stream",
          "text": [
            "Drive already mounted at /content/gdrive; to attempt to forcibly remount, call drive.mount(\"/content/gdrive\", force_remount=True).\n"
          ],
          "name": "stdout"
        }
      ]
    },
    {
      "cell_type": "code",
      "metadata": {
        "id": "A97yWiOjQ6ku"
      },
      "source": [
        "# In case you need to remount updates\n",
        "# drive.mount(\"/content/gdrive\", force_remount=True)"
      ],
      "execution_count": 15,
      "outputs": []
    },
    {
      "cell_type": "code",
      "metadata": {
        "colab": {
          "base_uri": "https://localhost:8080/"
        },
        "id": "FFP76_338dE2",
        "outputId": "6114a2d3-fd06-47a7-abd7-370d8994d460"
      },
      "source": [
        "!gdown --id '1Uj248Ft4CcExkFx1DO-OXhO11H0otDW1' --output data-bin.tar.gz "
      ],
      "execution_count": null,
      "outputs": [
        {
          "output_type": "stream",
          "text": [
            "Downloading...\n",
            "From: https://drive.google.com/uc?id=1Uj248Ft4CcExkFx1DO-OXhO11H0otDW1\n",
            "To: /content/data-bin.tar.gz\n",
            "1.64GB [00:19, 83.7MB/s]\n"
          ],
          "name": "stdout"
        }
      ]
    },
    {
      "cell_type": "code",
      "metadata": {
        "colab": {
          "base_uri": "https://localhost:8080/"
        },
        "id": "dtAwt6LF8oEC",
        "outputId": "f71cbea4-bd47-4bd0-9bd2-8560f793a948"
      },
      "source": [
        "!tar zxvf data-bin.tar.gz\n",
        "!rm data-bin.tar.gz"
      ],
      "execution_count": null,
      "outputs": [
        {
          "output_type": "stream",
          "text": [
            "data-bin/\n",
            "data-bin/testingset.npy\n",
            "data-bin/trainingset.npy\n"
          ],
          "name": "stdout"
        }
      ]
    },
    {
      "cell_type": "code",
      "metadata": {
        "id": "tVrgZguaLJhL"
      },
      "source": [
        "!cp -r /content/gdrive/MyDrive/Colab_Notebooks/hw8_organized_files/anomaly_detection/* ./"
      ],
      "execution_count": 10,
      "outputs": []
    },
    {
      "cell_type": "code",
      "metadata": {
        "id": "ueW7OmQeN0BX",
        "colab": {
          "base_uri": "https://localhost:8080/"
        },
        "outputId": "ac89c1aa-7b9d-48d7-d39b-e9fd177ab785"
      },
      "source": [
        "!source script.sh"
      ],
      "execution_count": 12,
      "outputs": [
        {
          "output_type": "stream",
          "text": [
            "tcmalloc: large alloc 1720336384 bytes == 0x55c0f5934000 @  0x7f05e7adb1e7 0x7f05e569b46e 0x7f05e56efe7c 0x7f05e56f0aaf 0x7f05e5792470 0x55c0f0dd8d54 0x55c0f0dd8a50 0x55c0f0e4d105 0x55c0f0e474ae 0x55c0f0dda3ea 0x55c0f0e4932a 0x55c0f0e474ae 0x55c0f0dda3ea 0x55c0f0e4932a 0x55c0f0e474ae 0x55c0f0e471b3 0x55c0f0f11182 0x55c0f0f114fd 0x55c0f0f113a6 0x55c0f0ee8723 0x55c0f0ee83cc 0x7f05e68c5bf7 0x55c0f0ee82aa\n",
            "Runnning default training\n",
            "Checkpoints will be stored at /content/gdrive/MyDrive/Colab_Notebooks/hw8_organized_files/anomaly_detection/ckpts/\n",
            "Train set: 126000 | Validation set: 14001\n",
            "Training model: cnn\n",
            "Enabled lr_scheduler with step_size=50, gamma=0.5\n",
            "  0% 0/250 [00:00<?, ?it/s] Loss :: 0.03230 | Val Loss :: 0.01320 | Epoch :: 1/250\n",
            "  0% 1/250 [00:15<1:02:23, 15.03s/it] Loss :: 0.01125 | Val Loss :: 0.00858 | Epoch :: 2/250\n",
            "  1% 2/250 [00:30<1:02:39, 15.16s/it] Loss :: 0.00867 | Val Loss :: 0.00737 | Epoch :: 3/250\n",
            "  1% 3/250 [00:45<1:02:24, 15.16s/it] Loss :: 0.00754 | Val Loss :: 0.00662 | Epoch :: 4/250\n",
            "  2% 4/250 [01:00<1:01:32, 15.01s/it] Loss :: 0.00684 | Val Loss :: 0.00631 | Epoch :: 5/250\n",
            "  2% 5/250 [01:15<1:01:15, 15.00s/it] Loss :: 0.00615 | Val Loss :: 0.00580 | Epoch :: 6/250\n",
            "  2% 6/250 [01:30<1:01:19, 15.08s/it] Loss :: 0.00556 | Val Loss :: 0.00495 | Epoch :: 7/250\n",
            "  3% 7/250 [01:45<1:01:14, 15.12s/it] Loss :: 0.00529 | Val Loss :: 0.00475 | Epoch :: 8/250\n",
            "  3% 8/250 [02:00<1:00:31, 15.01s/it] Loss :: 0.00496 | Val Loss :: 0.00464 | Epoch :: 9/250\n",
            "  4% 9/250 [02:15<1:00:22, 15.03s/it] Loss :: 0.00473 | Val Loss :: 0.00456 | Epoch :: 10/250\n",
            "  4% 10/250 [02:31<1:00:44, 15.18s/it] Loss :: 0.00461 | Val Loss :: 0.00461 | Epoch :: 11/250\n",
            "  4% 11/250 [02:46<1:00:36, 15.21s/it] Loss :: 0.00448 | Val Loss :: 0.00400 | Epoch :: 12/250\n",
            "  5% 12/250 [03:01<59:40, 15.05s/it]   Loss :: 0.00434 | Val Loss :: 0.00478 | Epoch :: 13/250\n",
            "  5% 13/250 [03:15<59:14, 15.00s/it] Loss :: 0.00421 | Val Loss :: 0.00408 | Epoch :: 14/250\n",
            "  6% 14/250 [03:30<59:01, 15.01s/it] Loss :: 0.00413 | Val Loss :: 0.00404 | Epoch :: 15/250\n",
            "  6% 15/250 [03:46<58:48, 15.01s/it] Loss :: 0.00401 | Val Loss :: 0.00380 | Epoch :: 16/250\n",
            "  6% 16/250 [04:00<57:57, 14.86s/it] Loss :: 0.00401 | Val Loss :: 0.00406 | Epoch :: 17/250\n",
            "  7% 17/250 [04:15<57:53, 14.91s/it] Loss :: 0.00392 | Val Loss :: 0.00354 | Epoch :: 18/250\n",
            "  7% 18/250 [04:30<58:16, 15.07s/it] Loss :: 0.00383 | Val Loss :: 0.00362 | Epoch :: 19/250\n",
            "  8% 19/250 [04:46<58:02, 15.08s/it] Loss :: 0.00378 | Val Loss :: 0.00382 | Epoch :: 20/250\n",
            "  8% 20/250 [05:00<57:17, 14.94s/it] Loss :: 0.00372 | Val Loss :: 0.00357 | Epoch :: 21/250\n",
            "  8% 21/250 [05:15<57:09, 14.97s/it] Loss :: 0.00365 | Val Loss :: 0.00338 | Epoch :: 22/250\n",
            "  9% 22/250 [05:31<57:24, 15.11s/it] Loss :: 0.00364 | Val Loss :: 0.00342 | Epoch :: 23/250\n",
            "  9% 23/250 [05:46<57:12, 15.12s/it] Loss :: 0.00361 | Val Loss :: 0.00336 | Epoch :: 24/250\n",
            " 10% 24/250 [06:01<56:27, 14.99s/it] Loss :: 0.00349 | Val Loss :: 0.00356 | Epoch :: 25/250\n",
            " 10% 25/250 [06:16<56:16, 15.01s/it] Loss :: 0.00346 | Val Loss :: 0.00322 | Epoch :: 26/250\n",
            " 10% 26/250 [06:31<56:24, 15.11s/it] Loss :: 0.00340 | Val Loss :: 0.00375 | Epoch :: 27/250\n",
            " 11% 27/250 [06:46<55:56, 15.05s/it] Loss :: 0.00333 | Val Loss :: 0.00315 | Epoch :: 28/250\n",
            " 11% 28/250 [07:00<54:51, 14.83s/it] Loss :: 0.00329 | Val Loss :: 0.00311 | Epoch :: 29/250\n",
            " 12% 29/250 [07:15<54:38, 14.83s/it] Loss :: 0.00327 | Val Loss :: 0.00313 | Epoch :: 30/250\n",
            " 12% 30/250 [07:30<54:49, 14.95s/it] Loss :: 0.00326 | Val Loss :: 0.00311 | Epoch :: 31/250\n",
            " 12% 31/250 [07:45<54:31, 14.94s/it] Loss :: 0.00324 | Val Loss :: 0.00318 | Epoch :: 32/250\n",
            " 13% 32/250 [07:59<53:39, 14.77s/it] Loss :: 0.00321 | Val Loss :: 0.00314 | Epoch :: 33/250\n",
            " 13% 33/250 [08:14<53:30, 14.80s/it] Loss :: 0.00318 | Val Loss :: 0.00307 | Epoch :: 34/250\n",
            " 14% 34/250 [08:30<53:52, 14.96s/it] Loss :: 0.00318 | Val Loss :: 0.00370 | Epoch :: 35/250\n",
            " 14% 35/250 [08:45<53:34, 14.95s/it] Loss :: 0.00315 | Val Loss :: 0.00303 | Epoch :: 36/250\n",
            " 14% 36/250 [08:59<52:26, 14.70s/it] Loss :: 0.00311 | Val Loss :: 0.00300 | Epoch :: 37/250\n",
            " 15% 37/250 [09:13<51:50, 14.61s/it] Loss :: 0.00313 | Val Loss :: 0.00304 | Epoch :: 38/250\n",
            " 15% 38/250 [09:28<52:00, 14.72s/it] Loss :: 0.00311 | Val Loss :: 0.00284 | Epoch :: 39/250\n",
            " 16% 39/250 [09:43<51:46, 14.72s/it] Loss :: 0.00308 | Val Loss :: 0.00291 | Epoch :: 40/250\n",
            " 16% 40/250 [09:57<50:54, 14.55s/it] Loss :: 0.00307 | Val Loss :: 0.00297 | Epoch :: 41/250\n",
            " 16% 41/250 [10:11<50:30, 14.50s/it] Loss :: 0.00306 | Val Loss :: 0.00309 | Epoch :: 42/250\n",
            " 17% 42/250 [10:26<50:53, 14.68s/it] Loss :: 0.00304 | Val Loss :: 0.00290 | Epoch :: 43/250\n",
            " 17% 43/250 [10:41<50:50, 14.74s/it] Loss :: 0.00305 | Val Loss :: 0.00311 | Epoch :: 44/250\n",
            " 18% 44/250 [10:55<49:50, 14.52s/it] Loss :: 0.00304 | Val Loss :: 0.00299 | Epoch :: 45/250\n",
            " 18% 45/250 [11:10<49:17, 14.43s/it] Loss :: 0.00302 | Val Loss :: 0.00278 | Epoch :: 46/250\n",
            " 18% 46/250 [11:24<49:31, 14.57s/it] Loss :: 0.00301 | Val Loss :: 0.00283 | Epoch :: 47/250\n",
            " 19% 47/250 [11:39<49:32, 14.64s/it] Loss :: 0.00298 | Val Loss :: 0.00305 | Epoch :: 48/250\n",
            " 19% 48/250 [11:53<48:42, 14.47s/it] Loss :: 0.00299 | Val Loss :: 0.00299 | Epoch :: 49/250\n",
            " 20% 49/250 [12:08<48:10, 14.38s/it] Loss :: 0.00298 | Val Loss :: 0.00341 | Epoch :: 50/250\n",
            " 20% 50/250 [12:23<48:55, 14.68s/it] Loss :: 0.00287 | Val Loss :: 0.00296 | Epoch :: 51/250\n",
            " 20% 51/250 [12:38<49:19, 14.87s/it] Loss :: 0.00287 | Val Loss :: 0.00275 | Epoch :: 52/250\n",
            " 21% 52/250 [12:53<49:16, 14.93s/it] Loss :: 0.00288 | Val Loss :: 0.00273 | Epoch :: 53/250\n",
            " 21% 53/250 [13:08<49:01, 14.93s/it] Loss :: 0.00284 | Val Loss :: 0.00282 | Epoch :: 54/250\n",
            " 22% 54/250 [13:24<49:13, 15.07s/it] Loss :: 0.00284 | Val Loss :: 0.00286 | Epoch :: 55/250\n",
            " 22% 55/250 [13:39<49:13, 15.15s/it] Loss :: 0.00285 | Val Loss :: 0.00269 | Epoch :: 56/250\n",
            " 22% 56/250 [13:54<48:28, 14.99s/it] Loss :: 0.00285 | Val Loss :: 0.00274 | Epoch :: 57/250\n",
            " 23% 57/250 [14:08<47:31, 14.78s/it] Loss :: 0.00285 | Val Loss :: 0.00276 | Epoch :: 58/250\n",
            " 23% 58/250 [14:23<47:53, 14.97s/it] Loss :: 0.00284 | Val Loss :: 0.00273 | Epoch :: 59/250\n",
            " 24% 59/250 [14:39<48:04, 15.10s/it] Loss :: 0.00283 | Val Loss :: 0.00270 | Epoch :: 60/250\n",
            " 24% 60/250 [14:54<47:36, 15.03s/it] Loss :: 0.00283 | Val Loss :: 0.00274 | Epoch :: 61/250\n",
            " 24% 61/250 [15:08<47:09, 14.97s/it] Loss :: 0.00283 | Val Loss :: 0.00278 | Epoch :: 62/250\n",
            " 25% 62/250 [15:24<47:12, 15.06s/it] Loss :: 0.00282 | Val Loss :: 0.00266 | Epoch :: 63/250\n",
            " 25% 63/250 [15:39<47:15, 15.16s/it] Loss :: 0.00283 | Val Loss :: 0.00286 | Epoch :: 64/250\n",
            " 26% 64/250 [15:54<46:28, 14.99s/it] Loss :: 0.00281 | Val Loss :: 0.00269 | Epoch :: 65/250\n",
            " 26% 65/250 [16:08<45:42, 14.82s/it] Loss :: 0.00281 | Val Loss :: 0.00265 | Epoch :: 66/250\n",
            " 26% 66/250 [16:23<45:41, 14.90s/it] Loss :: 0.00283 | Val Loss :: 0.00291 | Epoch :: 67/250\n",
            " 27% 67/250 [16:38<45:48, 15.02s/it] Loss :: 0.00281 | Val Loss :: 0.00279 | Epoch :: 68/250\n",
            " 27% 68/250 [16:53<44:49, 14.78s/it] Loss :: 0.00281 | Val Loss :: 0.00273 | Epoch :: 69/250\n",
            " 28% 69/250 [17:07<43:56, 14.56s/it] Loss :: 0.00282 | Val Loss :: 0.00276 | Epoch :: 70/250\n",
            " 28% 70/250 [17:21<43:44, 14.58s/it] Loss :: 0.00280 | Val Loss :: 0.00266 | Epoch :: 71/250\n",
            " 28% 71/250 [17:36<43:10, 14.47s/it] Loss :: 0.00280 | Val Loss :: 0.00276 | Epoch :: 72/250\n",
            " 29% 72/250 [17:49<42:01, 14.17s/it] Loss :: 0.00280 | Val Loss :: 0.00273 | Epoch :: 73/250\n",
            " 29% 73/250 [18:03<41:23, 14.03s/it] Loss :: 0.00280 | Val Loss :: 0.00282 | Epoch :: 74/250\n",
            " 30% 74/250 [18:17<41:37, 14.19s/it] Loss :: 0.00280 | Val Loss :: 0.00261 | Epoch :: 75/250\n",
            " 30% 75/250 [18:32<42:08, 14.45s/it] Loss :: 0.00280 | Val Loss :: 0.00268 | Epoch :: 76/250\n",
            " 30% 76/250 [18:47<41:42, 14.38s/it] Loss :: 0.00279 | Val Loss :: 0.00285 | Epoch :: 77/250\n",
            " 31% 77/250 [19:00<41:04, 14.25s/it] Loss :: 0.00280 | Val Loss :: 0.00265 | Epoch :: 78/250\n",
            " 31% 78/250 [19:15<40:51, 14.26s/it] Loss :: 0.00277 | Val Loss :: 0.00262 | Epoch :: 79/250\n",
            " 32% 79/250 [19:29<40:49, 14.33s/it] Loss :: 0.00279 | Val Loss :: 0.00272 | Epoch :: 80/250\n",
            " 32% 80/250 [19:43<40:10, 14.18s/it] Loss :: 0.00279 | Val Loss :: 0.00270 | Epoch :: 81/250\n",
            " 32% 81/250 [19:56<39:06, 13.89s/it] Loss :: 0.00278 | Val Loss :: 0.00271 | Epoch :: 82/250\n",
            " 33% 82/250 [20:10<38:29, 13.75s/it] Loss :: 0.00278 | Val Loss :: 0.00266 | Epoch :: 83/250\n",
            " 33% 83/250 [20:24<38:43, 13.92s/it] Loss :: 0.00277 | Val Loss :: 0.00266 | Epoch :: 84/250\n",
            " 34% 84/250 [20:39<38:59, 14.10s/it] Loss :: 0.00279 | Val Loss :: 0.00278 | Epoch :: 85/250\n",
            " 34% 85/250 [20:52<38:02, 13.83s/it] Loss :: 0.00277 | Val Loss :: 0.00274 | Epoch :: 86/250\n",
            " 34% 86/250 [21:05<37:13, 13.62s/it] Loss :: 0.00278 | Val Loss :: 0.00285 | Epoch :: 87/250\n",
            " 35% 87/250 [21:19<37:29, 13.80s/it] Loss :: 0.00278 | Val Loss :: 0.00265 | Epoch :: 88/250\n",
            " 35% 88/250 [21:33<37:41, 13.96s/it] Loss :: 0.00277 | Val Loss :: 0.00261 | Epoch :: 89/250\n",
            " 36% 89/250 [21:47<36:58, 13.78s/it] Loss :: 0.00278 | Val Loss :: 0.00262 | Epoch :: 90/250\n",
            " 36% 90/250 [22:00<36:40, 13.76s/it] Loss :: 0.00276 | Val Loss :: 0.00286 | Epoch :: 91/250\n",
            " 36% 91/250 [22:15<36:45, 13.87s/it] Loss :: 0.00276 | Val Loss :: 0.00267 | Epoch :: 92/250\n",
            " 37% 92/250 [22:29<37:15, 14.15s/it] Loss :: 0.00277 | Val Loss :: 0.00273 | Epoch :: 93/250\n",
            " 37% 93/250 [22:43<36:45, 14.05s/it] Loss :: 0.00276 | Val Loss :: 0.00261 | Epoch :: 94/250\n",
            " 38% 94/250 [22:57<36:08, 13.90s/it] Loss :: 0.00276 | Val Loss :: 0.00258 | Epoch :: 95/250\n",
            " 38% 95/250 [23:11<35:50, 13.88s/it] Loss :: 0.00275 | Val Loss :: 0.00265 | Epoch :: 96/250\n",
            " 38% 96/250 [23:25<36:06, 14.07s/it] Loss :: 0.00276 | Val Loss :: 0.00264 | Epoch :: 97/250\n",
            " 39% 97/250 [23:40<36:23, 14.27s/it] Loss :: 0.00275 | Val Loss :: 0.00283 | Epoch :: 98/250\n",
            " 39% 98/250 [23:54<36:06, 14.25s/it] Loss :: 0.00275 | Val Loss :: 0.00263 | Epoch :: 99/250\n",
            " 40% 99/250 [24:08<35:39, 14.17s/it] Loss :: 0.00276 | Val Loss :: 0.00260 | Epoch :: 100/250\n",
            " 40% 100/250 [24:23<35:53, 14.36s/it] Loss :: 0.00270 | Val Loss :: 0.00256 | Epoch :: 101/250\n",
            " 40% 101/250 [24:38<35:59, 14.50s/it] Loss :: 0.00269 | Val Loss :: 0.00257 | Epoch :: 102/250\n",
            " 41% 102/250 [24:51<35:13, 14.28s/it] Loss :: 0.00269 | Val Loss :: 0.00257 | Epoch :: 103/250\n",
            " 41% 103/250 [25:05<34:27, 14.06s/it] Loss :: 0.00270 | Val Loss :: 0.00253 | Epoch :: 104/250\n",
            " 42% 104/250 [25:20<34:37, 14.23s/it] Loss :: 0.00269 | Val Loss :: 0.00280 | Epoch :: 105/250\n",
            " 42% 105/250 [25:35<35:16, 14.60s/it] Loss :: 0.00269 | Val Loss :: 0.00259 | Epoch :: 106/250\n",
            " 42% 106/250 [25:50<35:21, 14.73s/it] Loss :: 0.00269 | Val Loss :: 0.00259 | Epoch :: 107/250\n",
            " 43% 107/250 [26:05<35:03, 14.71s/it] Loss :: 0.00269 | Val Loss :: 0.00257 | Epoch :: 108/250\n",
            " 43% 108/250 [26:20<35:11, 14.87s/it] Loss :: 0.00269 | Val Loss :: 0.00256 | Epoch :: 109/250\n",
            " 44% 109/250 [26:35<35:21, 15.05s/it] Loss :: 0.00269 | Val Loss :: 0.00260 | Epoch :: 110/250\n",
            " 44% 110/250 [26:50<34:58, 14.99s/it] Loss :: 0.00268 | Val Loss :: 0.00254 | Epoch :: 111/250\n",
            " 44% 111/250 [27:05<34:24, 14.86s/it] Loss :: 0.00268 | Val Loss :: 0.00257 | Epoch :: 112/250\n",
            " 45% 112/250 [27:20<34:26, 14.97s/it] Loss :: 0.00269 | Val Loss :: 0.00255 | Epoch :: 113/250\n",
            " 45% 113/250 [27:35<34:25, 15.07s/it] Loss :: 0.00269 | Val Loss :: 0.00261 | Epoch :: 114/250\n",
            " 46% 114/250 [27:50<33:51, 14.94s/it] Loss :: 0.00268 | Val Loss :: 0.00258 | Epoch :: 115/250\n",
            " 46% 115/250 [28:05<33:25, 14.86s/it] Loss :: 0.00268 | Val Loss :: 0.00255 | Epoch :: 116/250\n",
            " 46% 116/250 [28:20<33:29, 15.00s/it] Loss :: 0.00268 | Val Loss :: 0.00255 | Epoch :: 117/250\n",
            " 47% 117/250 [28:35<33:27, 15.10s/it] Loss :: 0.00267 | Val Loss :: 0.00256 | Epoch :: 118/250\n",
            " 47% 118/250 [28:50<33:02, 15.02s/it] Loss :: 0.00267 | Val Loss :: 0.00254 | Epoch :: 119/250\n",
            " 48% 119/250 [29:05<32:25, 14.85s/it] Loss :: 0.00268 | Val Loss :: 0.00254 | Epoch :: 120/250\n",
            " 48% 120/250 [29:20<32:28, 14.99s/it] Loss :: 0.00268 | Val Loss :: 0.00264 | Epoch :: 121/250\n",
            " 48% 121/250 [29:35<32:23, 15.07s/it] Loss :: 0.00267 | Val Loss :: 0.00257 | Epoch :: 122/250\n",
            " 49% 122/250 [29:50<31:51, 14.93s/it] Loss :: 0.00268 | Val Loss :: 0.00254 | Epoch :: 123/250\n",
            " 49% 123/250 [30:04<31:17, 14.79s/it] Loss :: 0.00267 | Val Loss :: 0.00255 | Epoch :: 124/250\n",
            " 50% 124/250 [30:19<31:13, 14.87s/it] Loss :: 0.00267 | Val Loss :: 0.00257 | Epoch :: 125/250\n",
            " 50% 125/250 [30:35<31:11, 14.97s/it] Loss :: 0.00268 | Val Loss :: 0.00264 | Epoch :: 126/250\n",
            " 50% 126/250 [30:49<30:45, 14.88s/it] Loss :: 0.00267 | Val Loss :: 0.00259 | Epoch :: 127/250\n",
            " 51% 127/250 [31:03<30:05, 14.68s/it] Loss :: 0.00267 | Val Loss :: 0.00253 | Epoch :: 128/250\n",
            " 51% 128/250 [31:18<30:02, 14.78s/it] Loss :: 0.00267 | Val Loss :: 0.00253 | Epoch :: 129/250\n",
            " 52% 129/250 [31:34<30:00, 14.88s/it] Loss :: 0.00267 | Val Loss :: 0.00253 | Epoch :: 130/250\n",
            " 52% 130/250 [31:48<29:34, 14.79s/it] Loss :: 0.00266 | Val Loss :: 0.00253 | Epoch :: 131/250\n",
            " 52% 131/250 [32:01<28:21, 14.30s/it] Loss :: 0.00267 | Val Loss :: 0.00254 | Epoch :: 132/250\n",
            " 53% 132/250 [32:15<27:43, 14.10s/it] Loss :: 0.00267 | Val Loss :: 0.00256 | Epoch :: 133/250\n",
            " 53% 133/250 [32:29<27:30, 14.11s/it] Loss :: 0.00267 | Val Loss :: 0.00254 | Epoch :: 134/250\n",
            " 54% 134/250 [32:43<26:57, 13.94s/it] Loss :: 0.00267 | Val Loss :: 0.00253 | Epoch :: 135/250\n",
            " 54% 135/250 [32:56<26:06, 13.62s/it] Loss :: 0.00266 | Val Loss :: 0.00258 | Epoch :: 136/250\n",
            " 54% 136/250 [33:09<25:35, 13.47s/it] Loss :: 0.00266 | Val Loss :: 0.00252 | Epoch :: 137/250\n",
            " 55% 137/250 [33:23<25:41, 13.64s/it] Loss :: 0.00266 | Val Loss :: 0.00258 | Epoch :: 138/250\n",
            " 55% 138/250 [33:37<25:41, 13.77s/it] Loss :: 0.00266 | Val Loss :: 0.00253 | Epoch :: 139/250\n",
            " 56% 139/250 [33:50<24:58, 13.50s/it] Loss :: 0.00266 | Val Loss :: 0.00255 | Epoch :: 140/250\n",
            " 56% 140/250 [34:02<24:23, 13.31s/it] Loss :: 0.00266 | Val Loss :: 0.00253 | Epoch :: 141/250\n",
            " 56% 141/250 [34:16<24:24, 13.44s/it] Loss :: 0.00266 | Val Loss :: 0.00258 | Epoch :: 142/250\n",
            " 57% 142/250 [34:30<24:30, 13.62s/it] Loss :: 0.00266 | Val Loss :: 0.00253 | Epoch :: 143/250\n",
            " 57% 143/250 [34:44<24:12, 13.57s/it] Loss :: 0.00266 | Val Loss :: 0.00254 | Epoch :: 144/250\n",
            " 58% 144/250 [34:57<23:37, 13.38s/it] Loss :: 0.00265 | Val Loss :: 0.00254 | Epoch :: 145/250\n",
            " 58% 145/250 [35:10<23:17, 13.31s/it] Loss :: 0.00266 | Val Loss :: 0.00253 | Epoch :: 146/250\n",
            " 58% 146/250 [35:24<23:25, 13.52s/it] Loss :: 0.00266 | Val Loss :: 0.00258 | Epoch :: 147/250\n",
            " 59% 147/250 [35:38<23:25, 13.64s/it] Loss :: 0.00266 | Val Loss :: 0.00254 | Epoch :: 148/250\n",
            " 59% 148/250 [35:51<22:48, 13.42s/it] Loss :: 0.00266 | Val Loss :: 0.00257 | Epoch :: 149/250\n",
            " 60% 149/250 [36:04<22:21, 13.29s/it] Loss :: 0.00266 | Val Loss :: 0.00260 | Epoch :: 150/250\n",
            " 60% 150/250 [36:18<22:28, 13.48s/it] Loss :: 0.00262 | Val Loss :: 0.00250 | Epoch :: 151/250\n",
            " 60% 151/250 [36:32<22:40, 13.74s/it] Loss :: 0.00262 | Val Loss :: 0.00251 | Epoch :: 152/250\n",
            " 61% 152/250 [36:46<22:23, 13.70s/it] Loss :: 0.00263 | Val Loss :: 0.00250 | Epoch :: 153/250\n",
            " 61% 153/250 [36:58<21:41, 13.42s/it] Loss :: 0.00262 | Val Loss :: 0.00255 | Epoch :: 154/250\n",
            " 62% 154/250 [37:12<21:28, 13.42s/it] Loss :: 0.00262 | Val Loss :: 0.00251 | Epoch :: 155/250\n",
            " 62% 155/250 [37:26<21:39, 13.68s/it] Loss :: 0.00262 | Val Loss :: 0.00249 | Epoch :: 156/250\n",
            " 62% 156/250 [37:40<21:34, 13.77s/it] Loss :: 0.00262 | Val Loss :: 0.00253 | Epoch :: 157/250\n",
            " 63% 157/250 [37:53<21:00, 13.55s/it] Loss :: 0.00263 | Val Loss :: 0.00252 | Epoch :: 158/250\n",
            " 63% 158/250 [38:06<20:30, 13.38s/it] Loss :: 0.00262 | Val Loss :: 0.00249 | Epoch :: 159/250\n",
            " 64% 159/250 [38:20<20:37, 13.59s/it] Loss :: 0.00262 | Val Loss :: 0.00249 | Epoch :: 160/250\n",
            " 64% 160/250 [38:34<20:41, 13.79s/it] Loss :: 0.00262 | Val Loss :: 0.00249 | Epoch :: 161/250\n",
            " 64% 161/250 [38:48<20:15, 13.66s/it] Loss :: 0.00262 | Val Loss :: 0.00251 | Epoch :: 162/250\n",
            " 65% 162/250 [39:01<19:41, 13.42s/it] Loss :: 0.00262 | Val Loss :: 0.00251 | Epoch :: 163/250\n",
            " 65% 163/250 [39:14<19:30, 13.46s/it] Loss :: 0.00262 | Val Loss :: 0.00249 | Epoch :: 164/250\n",
            " 66% 164/250 [39:27<19:14, 13.43s/it] Loss :: 0.00262 | Val Loss :: 0.00249 | Epoch :: 165/250\n",
            " 66% 165/250 [39:41<18:58, 13.39s/it] Loss :: 0.00262 | Val Loss :: 0.00252 | Epoch :: 166/250\n",
            " 66% 166/250 [39:54<18:33, 13.26s/it] Loss :: 0.00262 | Val Loss :: 0.00251 | Epoch :: 167/250\n",
            " 67% 167/250 [40:07<18:11, 13.15s/it] Loss :: 0.00262 | Val Loss :: 0.00250 | Epoch :: 168/250\n",
            " 67% 168/250 [40:21<18:24, 13.47s/it] Loss :: 0.00262 | Val Loss :: 0.00251 | Epoch :: 169/250\n",
            " 68% 169/250 [40:35<18:29, 13.70s/it] Loss :: 0.00262 | Val Loss :: 0.00250 | Epoch :: 170/250\n",
            " 68% 170/250 [40:48<18:06, 13.58s/it] Loss :: 0.00261 | Val Loss :: 0.00248 | Epoch :: 171/250\n",
            " 68% 171/250 [41:01<17:39, 13.41s/it] Loss :: 0.00262 | Val Loss :: 0.00251 | Epoch :: 172/250\n",
            " 69% 172/250 [41:15<17:32, 13.49s/it] Loss :: 0.00262 | Val Loss :: 0.00250 | Epoch :: 173/250\n",
            " 69% 173/250 [41:29<17:32, 13.67s/it] Loss :: 0.00261 | Val Loss :: 0.00250 | Epoch :: 174/250\n",
            " 70% 174/250 [41:43<17:18, 13.67s/it] Loss :: 0.00261 | Val Loss :: 0.00249 | Epoch :: 175/250\n",
            " 70% 175/250 [41:56<16:49, 13.46s/it] Loss :: 0.00262 | Val Loss :: 0.00250 | Epoch :: 176/250\n",
            " 70% 176/250 [42:09<16:34, 13.44s/it] Loss :: 0.00261 | Val Loss :: 0.00249 | Epoch :: 177/250\n",
            " 71% 177/250 [42:23<16:39, 13.70s/it] Loss :: 0.00261 | Val Loss :: 0.00251 | Epoch :: 178/250\n",
            " 71% 178/250 [42:38<16:38, 13.87s/it] Loss :: 0.00261 | Val Loss :: 0.00250 | Epoch :: 179/250\n",
            " 72% 179/250 [42:51<16:07, 13.63s/it] Loss :: 0.00260 | Val Loss :: 0.00248 | Epoch :: 180/250\n",
            " 72% 180/250 [43:04<15:42, 13.47s/it] Loss :: 0.00262 | Val Loss :: 0.00250 | Epoch :: 181/250\n",
            " 72% 181/250 [43:18<15:42, 13.66s/it] Loss :: 0.00261 | Val Loss :: 0.00250 | Epoch :: 182/250\n",
            " 73% 182/250 [43:32<15:39, 13.82s/it] Loss :: 0.00261 | Val Loss :: 0.00254 | Epoch :: 183/250\n",
            " 73% 183/250 [43:46<15:22, 13.77s/it] Loss :: 0.00261 | Val Loss :: 0.00251 | Epoch :: 184/250\n",
            " 74% 184/250 [43:59<14:58, 13.61s/it] Loss :: 0.00261 | Val Loss :: 0.00248 | Epoch :: 185/250\n",
            " 74% 185/250 [44:13<14:46, 13.63s/it] Loss :: 0.00260 | Val Loss :: 0.00248 | Epoch :: 186/250\n",
            " 74% 186/250 [44:27<14:45, 13.83s/it] Loss :: 0.00261 | Val Loss :: 0.00248 | Epoch :: 187/250\n",
            " 75% 187/250 [44:41<14:35, 13.90s/it] Loss :: 0.00260 | Val Loss :: 0.00248 | Epoch :: 188/250\n",
            " 75% 188/250 [44:54<14:08, 13.69s/it] Loss :: 0.00261 | Val Loss :: 0.00250 | Epoch :: 189/250\n",
            " 76% 189/250 [45:08<13:47, 13.56s/it] Loss :: 0.00260 | Val Loss :: 0.00249 | Epoch :: 190/250\n",
            " 76% 190/250 [45:22<13:47, 13.79s/it] Loss :: 0.00261 | Val Loss :: 0.00248 | Epoch :: 191/250\n",
            " 76% 191/250 [45:36<13:41, 13.92s/it] Loss :: 0.00261 | Val Loss :: 0.00248 | Epoch :: 192/250\n",
            " 77% 192/250 [45:49<13:14, 13.70s/it] Loss :: 0.00260 | Val Loss :: 0.00249 | Epoch :: 193/250\n",
            " 77% 193/250 [46:02<12:48, 13.49s/it] Loss :: 0.00260 | Val Loss :: 0.00248 | Epoch :: 194/250\n",
            " 78% 194/250 [46:16<12:41, 13.59s/it] Loss :: 0.00261 | Val Loss :: 0.00251 | Epoch :: 195/250\n",
            " 78% 195/250 [46:30<12:37, 13.78s/it] Loss :: 0.00261 | Val Loss :: 0.00248 | Epoch :: 196/250\n",
            " 78% 196/250 [46:44<12:23, 13.77s/it] Loss :: 0.00261 | Val Loss :: 0.00247 | Epoch :: 197/250\n",
            " 79% 197/250 [46:57<11:59, 13.57s/it] Loss :: 0.00260 | Val Loss :: 0.00249 | Epoch :: 198/250\n",
            " 79% 198/250 [47:11<11:41, 13.50s/it] Loss :: 0.00260 | Val Loss :: 0.00249 | Epoch :: 199/250\n",
            " 80% 199/250 [47:25<11:43, 13.80s/it] Loss :: 0.00260 | Val Loss :: 0.00248 | Epoch :: 200/250\n",
            " 80% 200/250 [47:39<11:37, 13.94s/it] Loss :: 0.00258 | Val Loss :: 0.00247 | Epoch :: 201/250\n",
            " 80% 201/250 [47:53<11:17, 13.82s/it] Loss :: 0.00259 | Val Loss :: 0.00248 | Epoch :: 202/250\n",
            " 81% 202/250 [48:06<10:57, 13.69s/it] Loss :: 0.00258 | Val Loss :: 0.00246 | Epoch :: 203/250\n",
            " 81% 203/250 [48:21<10:55, 13.95s/it] Loss :: 0.00258 | Val Loss :: 0.00247 | Epoch :: 204/250\n",
            " 82% 204/250 [48:35<10:51, 14.17s/it] Loss :: 0.00258 | Val Loss :: 0.00247 | Epoch :: 205/250\n",
            " 82% 205/250 [48:49<10:29, 13.99s/it] Loss :: 0.00259 | Val Loss :: 0.00246 | Epoch :: 206/250\n",
            " 82% 206/250 [49:03<10:08, 13.84s/it] Loss :: 0.00259 | Val Loss :: 0.00247 | Epoch :: 207/250\n",
            " 83% 207/250 [49:17<09:58, 13.92s/it] Loss :: 0.00258 | Val Loss :: 0.00247 | Epoch :: 208/250\n",
            " 83% 208/250 [49:31<09:49, 14.03s/it] Loss :: 0.00259 | Val Loss :: 0.00248 | Epoch :: 209/250\n",
            " 84% 209/250 [49:44<09:26, 13.83s/it] Loss :: 0.00258 | Val Loss :: 0.00246 | Epoch :: 210/250\n",
            " 84% 210/250 [49:57<09:00, 13.52s/it] Loss :: 0.00258 | Val Loss :: 0.00246 | Epoch :: 211/250\n",
            " 84% 211/250 [50:10<08:42, 13.41s/it] Loss :: 0.00258 | Val Loss :: 0.00247 | Epoch :: 212/250\n",
            " 85% 212/250 [50:24<08:37, 13.61s/it] Loss :: 0.00258 | Val Loss :: 0.00246 | Epoch :: 213/250\n",
            " 85% 213/250 [50:38<08:28, 13.74s/it] Loss :: 0.00258 | Val Loss :: 0.00246 | Epoch :: 214/250\n",
            " 86% 214/250 [50:51<08:04, 13.45s/it] Loss :: 0.00258 | Val Loss :: 0.00247 | Epoch :: 215/250\n",
            " 86% 215/250 [51:04<07:43, 13.25s/it] Loss :: 0.00259 | Val Loss :: 0.00246 | Epoch :: 216/250\n",
            " 86% 216/250 [51:18<07:35, 13.41s/it] Loss :: 0.00258 | Val Loss :: 0.00246 | Epoch :: 217/250\n",
            " 87% 217/250 [51:32<07:27, 13.55s/it] Loss :: 0.00259 | Val Loss :: 0.00247 | Epoch :: 218/250\n",
            " 87% 218/250 [51:45<07:10, 13.44s/it] Loss :: 0.00258 | Val Loss :: 0.00246 | Epoch :: 219/250\n",
            " 88% 219/250 [51:58<06:52, 13.32s/it] Loss :: 0.00258 | Val Loss :: 0.00246 | Epoch :: 220/250\n",
            " 88% 220/250 [52:11<06:42, 13.42s/it] Loss :: 0.00258 | Val Loss :: 0.00246 | Epoch :: 221/250\n",
            " 88% 221/250 [52:26<06:36, 13.68s/it] Loss :: 0.00257 | Val Loss :: 0.00246 | Epoch :: 222/250\n",
            " 89% 222/250 [52:40<06:26, 13.80s/it] Loss :: 0.00258 | Val Loss :: 0.00247 | Epoch :: 223/250\n",
            " 89% 223/250 [52:53<06:06, 13.59s/it] Loss :: 0.00257 | Val Loss :: 0.00246 | Epoch :: 224/250\n",
            " 90% 224/250 [53:06<05:49, 13.45s/it] Loss :: 0.00258 | Val Loss :: 0.00247 | Epoch :: 225/250\n",
            " 90% 225/250 [53:20<05:42, 13.70s/it] Loss :: 0.00258 | Val Loss :: 0.00248 | Epoch :: 226/250\n",
            " 90% 226/250 [53:35<05:32, 13.86s/it] Loss :: 0.00257 | Val Loss :: 0.00246 | Epoch :: 227/250\n",
            " 91% 227/250 [53:48<05:14, 13.66s/it] Loss :: 0.00258 | Val Loss :: 0.00246 | Epoch :: 228/250\n",
            " 91% 228/250 [54:01<04:56, 13.47s/it] Loss :: 0.00258 | Val Loss :: 0.00248 | Epoch :: 229/250\n",
            " 92% 229/250 [54:15<04:44, 13.55s/it] Loss :: 0.00258 | Val Loss :: 0.00247 | Epoch :: 230/250\n",
            " 92% 230/250 [54:29<04:35, 13.79s/it] Loss :: 0.00257 | Val Loss :: 0.00246 | Epoch :: 231/250\n",
            " 92% 231/250 [54:43<04:22, 13.83s/it] Loss :: 0.00258 | Val Loss :: 0.00247 | Epoch :: 232/250\n",
            " 93% 232/250 [54:56<04:05, 13.62s/it] Loss :: 0.00258 | Val Loss :: 0.00247 | Epoch :: 233/250\n",
            " 93% 233/250 [55:09<03:50, 13.59s/it] Loss :: 0.00257 | Val Loss :: 0.00246 | Epoch :: 234/250\n",
            " 94% 234/250 [55:24<03:40, 13.79s/it] Loss :: 0.00258 | Val Loss :: 0.00246 | Epoch :: 235/250\n",
            " 94% 235/250 [55:38<03:29, 13.95s/it] Loss :: 0.00258 | Val Loss :: 0.00247 | Epoch :: 236/250\n",
            " 94% 236/250 [55:51<03:11, 13.70s/it] Loss :: 0.00258 | Val Loss :: 0.00245 | Epoch :: 237/250\n",
            " 95% 237/250 [56:04<02:55, 13.53s/it] Loss :: 0.00258 | Val Loss :: 0.00247 | Epoch :: 238/250\n",
            " 95% 238/250 [56:18<02:44, 13.70s/it] Loss :: 0.00257 | Val Loss :: 0.00246 | Epoch :: 239/250\n",
            " 96% 239/250 [56:33<02:33, 13.92s/it] Loss :: 0.00258 | Val Loss :: 0.00246 | Epoch :: 240/250\n",
            " 96% 240/250 [56:46<02:18, 13.84s/it] Loss :: 0.00257 | Val Loss :: 0.00246 | Epoch :: 241/250\n",
            " 96% 241/250 [57:00<02:02, 13.63s/it] Loss :: 0.00257 | Val Loss :: 0.00246 | Epoch :: 242/250\n",
            " 97% 242/250 [57:13<01:49, 13.66s/it] Loss :: 0.00258 | Val Loss :: 0.00248 | Epoch :: 243/250\n",
            " 97% 243/250 [57:28<01:37, 13.88s/it] Loss :: 0.00257 | Val Loss :: 0.00246 | Epoch :: 244/250\n",
            " 98% 244/250 [57:42<01:23, 13.90s/it] Loss :: 0.00257 | Val Loss :: 0.00246 | Epoch :: 245/250\n",
            " 98% 245/250 [57:55<01:08, 13.63s/it] Loss :: 0.00257 | Val Loss :: 0.00246 | Epoch :: 246/250\n",
            " 98% 246/250 [58:08<00:54, 13.52s/it] Loss :: 0.00258 | Val Loss :: 0.00247 | Epoch :: 247/250\n",
            " 99% 247/250 [58:22<00:41, 13.80s/it] Loss :: 0.00257 | Val Loss :: 0.00246 | Epoch :: 248/250\n",
            " 99% 248/250 [58:37<00:27, 13.98s/it] Loss :: 0.00257 | Val Loss :: 0.00246 | Epoch :: 249/250\n",
            "100% 249/250 [58:50<00:13, 13.76s/it] Loss :: 0.00257 | Val Loss :: 0.00245 | Epoch :: 250/250\n",
            "100% 250/250 [59:03<00:00, 14.18s/it]\n",
            "Completed training! Inference file stored as PREDICTION_FILE.csv.\n"
          ],
          "name": "stdout"
        }
      ]
    },
    {
      "cell_type": "code",
      "metadata": {
        "colab": {
          "base_uri": "https://localhost:8080/",
          "height": 334
        },
        "id": "HhTbZ3r4RXSS",
        "outputId": "c2b43923-760a-4ccf-a9c8-0ac78eb0fbea"
      },
      "source": [
        "import pandas as pd\n",
        "import matplotlib.pyplot as plt\n",
        "\n",
        "df = pd.read_csv('loss_history.txt', delimiter = \",\", header=None)\n",
        "train_loss, val_loss = df[0], df[1]\n",
        "\n",
        "plt.figure(figsize=(10,5))\n",
        "plt.plot(train_loss, c='tab:red', label='train')\n",
        "plt.plot(val_loss, c='tab:cyan', label='val')\n",
        "plt.legend()\n",
        "plt.ylabel('Loss')\n",
        "plt.xlabel('Epoch')\n",
        "plt.show()"
      ],
      "execution_count": 13,
      "outputs": [
        {
          "output_type": "display_data",
          "data": {
            "image/png": "[encoded data removed]",
            "text/plain": [
              "<Figure size 720x360 with 1 Axes>"
            ]
          },
          "metadata": {
            "tags": [],
            "needs_background": "light"
          }
        }
      ]
    },
    {
      "cell_type": "code",
      "metadata": {
        "id": "z2cDp0MPVkXE"
      },
      "source": [
        ""
      ],
      "execution_count": null,
      "outputs": []
    }
  ]
}